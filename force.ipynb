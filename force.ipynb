{
 "cells": [
  {
   "cell_type": "code",
   "execution_count": 2,
   "id": "a4d4a34f",
   "metadata": {},
   "outputs": [],
   "source": [
    "import pandas as pd\n",
    "import matplotlib.pyplot as plt\n",
    "\n",
    "%matplotlib inline"
   ]
  },
  {
   "cell_type": "markdown",
   "id": "4ef91c3f",
   "metadata": {},
   "source": [
    "# Bedfordshire data"
   ]
  },
  {
   "cell_type": "code",
   "execution_count": 3,
   "id": "525ea530",
   "metadata": {},
   "outputs": [],
   "source": [
    "df1 = pd.read_csv('bed_element_july.csv')\n",
    "df2 = pd.read_csv('bed_element_aug.csv')\n",
    "df3 = pd.read_csv('bed_element_sep.csv')"
   ]
  },
  {
   "cell_type": "markdown",
   "id": "6d954403",
   "metadata": {},
   "source": [
    "## Relationship between male and female search"
   ]
  },
  {
   "cell_type": "code",
   "execution_count": 4,
   "id": "297fd534",
   "metadata": {},
   "outputs": [],
   "source": [
    "ll = [ [len(df[df.gender == 'Male']), len(df[df.gender == 'Female'])] for df in [df1, df2, df3] ]"
   ]
  },
  {
   "cell_type": "code",
   "execution_count": 5,
   "id": "efecfd9b",
   "metadata": {},
   "outputs": [
    {
     "data": {
      "text/plain": [
       "[[218, 33], [214, 24], [241, 27]]"
      ]
     },
     "execution_count": 5,
     "metadata": {},
     "output_type": "execute_result"
    }
   ],
   "source": [
    "ll"
   ]
  },
  {
   "cell_type": "code",
   "execution_count": 6,
   "id": "f37377e7",
   "metadata": {},
   "outputs": [],
   "source": [
    "gender_df = pd.DataFrame(ll, columns=['Male', 'Female'], index=['July', 'August', 'Sept'])"
   ]
  },
  {
   "cell_type": "code",
   "execution_count": 7,
   "id": "4f18f8e9",
   "metadata": {},
   "outputs": [
    {
     "data": {
      "text/plain": [
       "<AxesSubplot: >"
      ]
     },
     "execution_count": 7,
     "metadata": {},
     "output_type": "execute_result"
    },
    {
     "data": {
      "image/png": "[encoded data removed]",
      "text/plain": [
       "<Figure size 640x480 with 1 Axes>"
      ]
     },
     "metadata": {},
     "output_type": "display_data"
    }
   ],
   "source": [
    "gender_df.plot.barh()"
   ]
  },
  {
   "cell_type": "markdown",
   "id": "ae781f55",
   "metadata": {},
   "source": [
    "## Bar graph of age range of those searched over three months"
   ]
  },
  {
   "cell_type": "code",
   "execution_count": 8,
   "id": "86d5c776",
   "metadata": {},
   "outputs": [],
   "source": [
    "# remove rows with NaN for age range column\n",
    "df1 = df1[df1.age_range.isna() == False]\n",
    "df2 = df2[df2.age_range.isna() == False]\n",
    "df3 = df3[df3.age_range.isna() == False]"
   ]
  },
  {
   "cell_type": "code",
   "execution_count": 9,
   "id": "8b08596e",
   "metadata": {},
   "outputs": [],
   "source": [
    "ll = [ [ len(df[df.age_range == d]) for d in sorted(df.age_range.unique()) ] for df in [df1, df2, df3] ]\n",
    "# [ [ dict_data[d] = len(df[df.age_range == d]) for d in df.age_range.unique() ] for df in [df1, df2, df3] ]"
   ]
  },
  {
   "cell_type": "code",
   "execution_count": 10,
   "id": "9a99b2ae",
   "metadata": {},
   "outputs": [
    {
     "data": {
      "text/plain": [
       "[[55, 68, 48, 65, 1], [40, 79, 58, 50], [54, 81, 59, 66]]"
      ]
     },
     "execution_count": 10,
     "metadata": {},
     "output_type": "execute_result"
    }
   ],
   "source": [
    "ll"
   ]
  },
  {
   "cell_type": "code",
   "execution_count": 11,
   "id": "5c16cd9a",
   "metadata": {},
   "outputs": [
    {
     "data": {
      "text/plain": [
       "['10-17', '18-24', '25-34', 'over 34', 'under 10']"
      ]
     },
     "execution_count": 11,
     "metadata": {},
     "output_type": "execute_result"
    }
   ],
   "source": [
    "cols = sorted(df1.age_range.unique())\n",
    "cols"
   ]
  },
  {
   "cell_type": "code",
   "execution_count": 12,
   "id": "2ed75e31",
   "metadata": {},
   "outputs": [],
   "source": [
    "gender_df = pd.DataFrame(ll, columns=cols, index=['July', 'August', 'Sept'])"
   ]
  },
  {
   "cell_type": "code",
   "execution_count": 13,
   "id": "e07b2eec",
   "metadata": {
    "scrolled": true
   },
   "outputs": [
    {
     "data": {
      "text/plain": [
       "<AxesSubplot: >"
      ]
     },
     "execution_count": 13,
     "metadata": {},
     "output_type": "execute_result"
    },
    {
     "data": {
      "image/png": "[encoded data removed]",
      "text/plain": [
       "<Figure size 640x480 with 1 Axes>"
      ]
     },
     "metadata": {},
     "output_type": "display_data"
    }
   ],
   "source": [
    "gender_df.plot.bar()"
   ]
  },
  {
   "cell_type": "code",
   "execution_count": 14,
   "id": "78ae3db1",
   "metadata": {},
   "outputs": [
    {
     "data": {
      "text/plain": [
       "array(['18-24', '10-17', 'over 34', '25-34', 'under 10'], dtype=object)"
      ]
     },
     "execution_count": 14,
     "metadata": {},
     "output_type": "execute_result"
    }
   ],
   "source": [
    "# df1[df1.age_range == '18-24']\n",
    "df1.age_range.unique()"
   ]
  },
  {
   "cell_type": "markdown",
   "id": "1c612625",
   "metadata": {},
   "source": [
    "# Other area data"
   ]
  },
  {
   "cell_type": "code",
   "execution_count": null,
   "id": "b14d183e",
   "metadata": {},
   "outputs": [],
   "source": []
  },
  {
   "cell_type": "code",
   "execution_count": 15,
   "id": "2e089417",
   "metadata": {},
   "outputs": [],
   "source": [
    "df1 = pd.read_csv('element_july.csv')\n",
    "df2 = pd.read_csv('element_aug.csv')\n",
    "df3 = pd.read_csv('element_sep.csv')"
   ]
  },
  {
   "cell_type": "markdown",
   "id": "766a4fb7",
   "metadata": {},
   "source": [
    "## Relationship between male and female search over three months"
   ]
  },
  {
   "cell_type": "code",
   "execution_count": 16,
   "id": "de87a742",
   "metadata": {},
   "outputs": [],
   "source": [
    "ll = [ [len(df[df.gender == 'Male']), len(df[df.gender == 'Female'])] for df in [df1, df2, df3] ]"
   ]
  },
  {
   "cell_type": "code",
   "execution_count": 17,
   "id": "aeb69248",
   "metadata": {},
   "outputs": [
    {
     "data": {
      "text/plain": [
       "[[328, 49], [420, 52], [281, 21]]"
      ]
     },
     "execution_count": 17,
     "metadata": {},
     "output_type": "execute_result"
    }
   ],
   "source": [
    "ll"
   ]
  },
  {
   "cell_type": "code",
   "execution_count": 18,
   "id": "6b201688",
   "metadata": {},
   "outputs": [],
   "source": [
    "gender_df = pd.DataFrame(ll, columns=['Male', 'Female'], index=['July', 'August', 'Sept'])"
   ]
  },
  {
   "cell_type": "code",
   "execution_count": 19,
   "id": "b0c17471",
   "metadata": {
    "scrolled": true
   },
   "outputs": [
    {
     "data": {
      "text/plain": [
       "<AxesSubplot: >"
      ]
     },
     "execution_count": 19,
     "metadata": {},
     "output_type": "execute_result"
    },
    {
     "data": {
      "image/png": "[encoded data removed]",
      "text/plain": [
       "<Figure size 640x480 with 1 Axes>"
      ]
     },
     "metadata": {},
     "output_type": "display_data"
    }
   ],
   "source": [
    "gender_df.plot.barh()"
   ]
  },
  {
   "cell_type": "markdown",
   "id": "07d96f47",
   "metadata": {},
   "source": [
    "# Bar graph of age range of those searched over three months"
   ]
  },
  {
   "cell_type": "code",
   "execution_count": 20,
   "id": "68267090",
   "metadata": {},
   "outputs": [],
   "source": [
    "# remove rows with NaN for age range column\n",
    "df1 = df1[df1.age_range.isna() == False]\n",
    "df2 = df2[df2.age_range.isna() == False]\n",
    "df3 = df3[df3.age_range.isna() == False]"
   ]
  },
  {
   "cell_type": "code",
   "execution_count": 21,
   "id": "370bfcc2",
   "metadata": {},
   "outputs": [],
   "source": [
    "dict_data = {}"
   ]
  },
  {
   "cell_type": "code",
   "execution_count": 22,
   "id": "f680eb92",
   "metadata": {},
   "outputs": [],
   "source": [
    "ll = [ [ len(df[df.age_range == d]) for d in sorted(df.age_range.unique()) ] for df in [df1, df2, df3] ]\n",
    "# [ [ dict_data[d] = len(df[df.age_range == d]) for d in df.age_range.unique() ] for df in [df1, df2, df3] ]"
   ]
  },
  {
   "cell_type": "code",
   "execution_count": 23,
   "id": "cd4ab3f7",
   "metadata": {},
   "outputs": [
    {
     "data": {
      "text/plain": [
       "[[39, 90, 84, 158, 1], [53, 86, 138, 189], [41, 62, 96, 101]]"
      ]
     },
     "execution_count": 23,
     "metadata": {},
     "output_type": "execute_result"
    }
   ],
   "source": [
    "ll"
   ]
  },
  {
   "cell_type": "code",
   "execution_count": 24,
   "id": "d49c783f",
   "metadata": {},
   "outputs": [
    {
     "data": {
      "text/plain": [
       "['10-17', '18-24', '25-34', 'over 34', 'under 10']"
      ]
     },
     "execution_count": 24,
     "metadata": {},
     "output_type": "execute_result"
    }
   ],
   "source": [
    "cols = sorted(df1.age_range.unique())\n",
    "cols"
   ]
  },
  {
   "cell_type": "code",
   "execution_count": 25,
   "id": "532177bf",
   "metadata": {},
   "outputs": [],
   "source": [
    "gender_df = pd.DataFrame(ll, columns=cols, index=['July', 'August', 'Sept'])"
   ]
  },
  {
   "cell_type": "code",
   "execution_count": 26,
   "id": "32aa8da0",
   "metadata": {
    "scrolled": true
   },
   "outputs": [
    {
     "data": {
      "text/plain": [
       "<AxesSubplot: >"
      ]
     },
     "execution_count": 26,
     "metadata": {},
     "output_type": "execute_result"
    },
    {
     "data": {
      "image/png": "[encoded data removed]",
      "text/plain": [
       "<Figure size 640x480 with 1 Axes>"
      ]
     },
     "metadata": {},
     "output_type": "display_data"
    }
   ],
   "source": [
    "gender_df.plot.bar()"
   ]
  },
  {
   "cell_type": "code",
   "execution_count": 27,
   "id": "4e705867",
   "metadata": {},
   "outputs": [
    {
     "data": {
      "text/plain": [
       "array(['18-24', '25-34', 'over 34', '10-17', 'under 10'], dtype=object)"
      ]
     },
     "execution_count": 27,
     "metadata": {},
     "output_type": "execute_result"
    }
   ],
   "source": [
    "# df1[df1.age_range == '18-24']\n",
    "df1.age_range.unique()"
   ]
  },
  {
   "cell_type": "code",
   "execution_count": 28,
   "id": "5963fb66",
   "metadata": {},
   "outputs": [
    {
     "data": {
      "text/plain": [
       "Unnamed: 0                               int64\n",
       "age_range                               object\n",
       "outcome                                 object\n",
       "involved_person                           bool\n",
       "self_defined_ethnicity                  object\n",
       "gender                                  object\n",
       "legislation                             object\n",
       "outcome_linked_to_object_of_search      object\n",
       "datetime                                object\n",
       "removal_of_more_than_outer_clothing    float64\n",
       "outcome_object                          object\n",
       "location                                object\n",
       "operation                              float64\n",
       "officer_defined_ethnicity               object\n",
       "type                                    object\n",
       "operation_name                         float64\n",
       "object_of_search                        object\n",
       "dtype: object"
      ]
     },
     "execution_count": 28,
     "metadata": {},
     "output_type": "execute_result"
    }
   ],
   "source": [
    "df1.dtypes"
   ]
  },
  {
   "cell_type": "markdown",
   "id": "19637b52",
   "metadata": {},
   "source": [
    "# Bar graph of age range of those arrested over three months"
   ]
  },
  {
   "cell_type": "code",
   "execution_count": 35,
   "id": "4c6313a9",
   "metadata": {},
   "outputs": [
    {
     "name": "stderr",
     "output_type": "stream",
     "text": [
      "/tmp/ipykernel_14936/1291730912.py:1: FutureWarning: The default value of numeric_only in DataFrameGroupBy.sum is deprecated. In a future version, numeric_only will default to False. Either specify numeric_only or select only columns which should be valid for the function.\n",
      "  age_df = df1.groupby('outcome').sum()\n"
     ]
    },
    {
     "data": {
      "text/html": [
       "<div>\n",
       "<style scoped>\n",
       "    .dataframe tbody tr th:only-of-type {\n",
       "        vertical-align: middle;\n",
       "    }\n",
       "\n",
       "    .dataframe tbody tr th {\n",
       "        vertical-align: top;\n",
       "    }\n",
       "\n",
       "    .dataframe thead th {\n",
       "        text-align: right;\n",
       "    }\n",
       "</style>\n",
       "<table border=\"1\" class=\"dataframe\">\n",
       "  <thead>\n",
       "    <tr style=\"text-align: right;\">\n",
       "      <th></th>\n",
       "      <th>Unnamed: 0</th>\n",
       "      <th>involved_person</th>\n",
       "      <th>removal_of_more_than_outer_clothing</th>\n",
       "      <th>operation</th>\n",
       "      <th>operation_name</th>\n",
       "    </tr>\n",
       "    <tr>\n",
       "      <th>outcome</th>\n",
       "      <th></th>\n",
       "      <th></th>\n",
       "      <th></th>\n",
       "      <th></th>\n",
       "      <th></th>\n",
       "    </tr>\n",
       "  </thead>\n",
       "  <tbody>\n",
       "    <tr>\n",
       "      <th>A no further action disposal</th>\n",
       "      <td>57965</td>\n",
       "      <td>282</td>\n",
       "      <td>0.0</td>\n",
       "      <td>0.0</td>\n",
       "      <td>0.0</td>\n",
       "    </tr>\n",
       "    <tr>\n",
       "      <th>Arrest</th>\n",
       "      <td>11758</td>\n",
       "      <td>52</td>\n",
       "      <td>0.0</td>\n",
       "      <td>0.0</td>\n",
       "      <td>0.0</td>\n",
       "    </tr>\n",
       "    <tr>\n",
       "      <th>Community resolution</th>\n",
       "      <td>2645</td>\n",
       "      <td>9</td>\n",
       "      <td>0.0</td>\n",
       "      <td>0.0</td>\n",
       "      <td>0.0</td>\n",
       "    </tr>\n",
       "    <tr>\n",
       "      <th>Khat or Cannabis warning</th>\n",
       "      <td>1634</td>\n",
       "      <td>8</td>\n",
       "      <td>0.0</td>\n",
       "      <td>0.0</td>\n",
       "      <td>0.0</td>\n",
       "    </tr>\n",
       "    <tr>\n",
       "      <th>Summons / charged by post</th>\n",
       "      <td>1183</td>\n",
       "      <td>7</td>\n",
       "      <td>0.0</td>\n",
       "      <td>0.0</td>\n",
       "      <td>0.0</td>\n",
       "    </tr>\n",
       "  </tbody>\n",
       "</table>\n",
       "</div>"
      ],
      "text/plain": [
       "                              Unnamed: 0  involved_person  \\\n",
       "outcome                                                     \n",
       "A no further action disposal       57965              282   \n",
       "Arrest                             11758               52   \n",
       "Community resolution                2645                9   \n",
       "Khat or Cannabis warning            1634                8   \n",
       "Summons / charged by post           1183                7   \n",
       "\n",
       "                              removal_of_more_than_outer_clothing  operation  \\\n",
       "outcome                                                                        \n",
       "A no further action disposal                                  0.0        0.0   \n",
       "Arrest                                                        0.0        0.0   \n",
       "Community resolution                                          0.0        0.0   \n",
       "Khat or Cannabis warning                                      0.0        0.0   \n",
       "Summons / charged by post                                     0.0        0.0   \n",
       "\n",
       "                              operation_name  \n",
       "outcome                                       \n",
       "A no further action disposal             0.0  \n",
       "Arrest                                   0.0  \n",
       "Community resolution                     0.0  \n",
       "Khat or Cannabis warning                 0.0  \n",
       "Summons / charged by post                0.0  "
      ]
     },
     "execution_count": 35,
     "metadata": {},
     "output_type": "execute_result"
    }
   ],
   "source": [
    "age_df = df1.groupby('outcome').sum()\n",
    "age_df.head()"
   ]
  },
  {
   "cell_type": "code",
   "execution_count": 36,
   "id": "a1c631b8",
   "metadata": {},
   "outputs": [
    {
     "data": {
      "text/plain": [
       "<AxesSubplot: xlabel='outcome'>"
      ]
     },
     "execution_count": 36,
     "metadata": {},
     "output_type": "execute_result"
    },
    {
     "data": {
      "image/png": "[encoded data removed]",
      "text/plain": [
       "<Figure size 640x480 with 1 Axes>"
      ]
     },
     "metadata": {},
     "output_type": "display_data"
    }
   ],
   "source": [
    "age_df.involved_person.plot.bar()"
   ]
  },
  {
   "cell_type": "code",
   "execution_count": null,
   "id": "1fd23f96",
   "metadata": {},
   "outputs": [],
   "source": []
  }
 ],
 "metadata": {
  "kernelspec": {
   "display_name": "QL",
   "language": "python",
   "name": "ql"
  },
  "language_info": {
   "codemirror_mode": {
    "name": "ipython",
    "version": 3
   },
   "file_extension": ".py",
   "mimetype": "text/x-python",
   "name": "python",
   "nbconvert_exporter": "python",
   "pygments_lexer": "ipython3",
   "version": "3.9.15"
  }
 },
 "nbformat": 4,
 "nbformat_minor": 5
}
